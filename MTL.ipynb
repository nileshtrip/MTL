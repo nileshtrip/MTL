{
 "cells": [
  {
   "cell_type": "code",
   "execution_count": 1,
   "metadata": {},
   "outputs": [],
   "source": [
    "import numpy as np\n",
    "import ray\n",
    "import scipy\n",
    "import math\n",
    "import datetime\n",
    "#import mkl\n",
    "import numpy.linalg as la\n",
    "import os\n",
    "from sklearn.linear_model import RidgeCV\n",
    "import pickle"
   ]
  },
  {
   "cell_type": "code",
   "execution_count": 2,
   "metadata": {
    "scrolled": true
   },
   "outputs": [
    {
     "name": "stderr",
     "output_type": "stream",
     "text": [
      "2020-01-19 18:23:05,451\tINFO node.py:469 -- Process STDOUT and STDERR is being redirected to /tmp/ray/session_2020-01-19_18-23-05_24234/logs.\n",
      "2020-01-19 18:23:05,561\tINFO services.py:407 -- Waiting for redis server at 127.0.0.1:31484 to respond...\n",
      "2020-01-19 18:23:05,678\tINFO services.py:407 -- Waiting for redis server at 127.0.0.1:34493 to respond...\n",
      "2020-01-19 18:23:05,683\tINFO services.py:804 -- Starting Redis shard with 10.0 GB max memory.\n",
      "2020-01-19 18:23:05,704\tINFO node.py:483 -- Process STDOUT and STDERR is being redirected to /tmp/ray/session_2020-01-19_18-23-05_24234/logs.\n",
      "2020-01-19 18:23:05,707\tWARNING services.py:1279 -- Warning: Capping object memory store to 20.0GB. To increase this further, specify `object_store_memory` when calling ray.init() or ray start.\n",
      "2020-01-19 18:23:05,709\tINFO services.py:1427 -- Starting the Plasma object store with 20.0 GB memory using /dev/shm.\n"
     ]
    },
    {
     "data": {
      "text/plain": [
       "{'node_ip_address': '169.229.48.80',\n",
       " 'redis_address': '169.229.48.80:31484',\n",
       " 'object_store_address': '/tmp/ray/session_2020-01-19_18-23-05_24234/sockets/plasma_store',\n",
       " 'raylet_socket_name': '/tmp/ray/session_2020-01-19_18-23-05_24234/sockets/raylet',\n",
       " 'webui_url': None}"
      ]
     },
     "execution_count": 2,
     "metadata": {},
     "output_type": "execute_result"
    }
   ],
   "source": [
    "ray.init(num_cpus=48, redis_password=\"123456\")"
   ]
  },
  {
   "cell_type": "code",
   "execution_count": 3,
   "metadata": {},
   "outputs": [],
   "source": [
    "def eigs(M):\n",
    "    \n",
    "    eigenValues, eigenVectors = la.eig(M)\n",
    "\n",
    "    idx = eigenValues.argsort()[::-1]   \n",
    "    eigenValues = eigenValues[idx]\n",
    "    eigenVectors = eigenVectors[:,idx]\n",
    "    \n",
    "    return eigenValues, eigenVectors"
   ]
  },
  {
   "cell_type": "code",
   "execution_count": 4,
   "metadata": {},
   "outputs": [],
   "source": [
    "def gen_train_model(d, r, T, train_n):\n",
    "    \n",
    "    u, s, v = la.svd(np.random.normal(size=(d, r)))\n",
    "    B = u[:, :r]\n",
    "    \n",
    "    train_alphas = [np.random.normal(size=r, scale=1/math.sqrt(r)) for i in range(T)]\n",
    "    train_data=[]\n",
    "    for i in range(T):\n",
    "        X=np.random.normal(size=(train_n, d))\n",
    "        y = X @ B @ train_alphas[i] + np.random.normal(size=train_n)\n",
    "        train_data.append((X, y))\n",
    "        \n",
    "    return train_data, B, train_alphas"
   ]
  },
  {
   "cell_type": "code",
   "execution_count": 5,
   "metadata": {},
   "outputs": [],
   "source": [
    "def gen_test_model(d, r, B, test_n):\n",
    "    \n",
    "    alpha = np.random.normal(size=r, scale=1/math.sqrt(r))\n",
    "\n",
    "    X=np.random.normal(size=(test_n, d))\n",
    "    y = X @ B @ alpha + np.random.normal(size=test_n)\n",
    "        \n",
    "    return (X, y), alpha"
   ]
  },
  {
   "cell_type": "code",
   "execution_count": 6,
   "metadata": {},
   "outputs": [],
   "source": [
    "def MoM(train_data):\n",
    "    \n",
    "    T = len(train_data)\n",
    "    d = train_data[0][0].shape[1]\n",
    "    \n",
    "    total_n=0\n",
    "    M = np.zeros(shape=(d, d))\n",
    "    for i in range(T):\n",
    "        data = train_data[i]\n",
    "        X, y = data\n",
    "        num = y.shape[0]\n",
    "        total_n += num\n",
    "        scaled_X = (X.T * y).T\n",
    "        M += (scaled_X).T @ scaled_X\n",
    "    M = 1/float(total_n) * M\n",
    "    \n",
    "    return M"
   ]
  },
  {
   "cell_type": "code",
   "execution_count": 7,
   "metadata": {},
   "outputs": [],
   "source": [
    "def rPCA(M, r):\n",
    "    \n",
    "    eigVals, eigVecs = eigs(M)\n",
    "    \n",
    "    return eigVecs[:, :r], eigVecs[:, r:]"
   ]
  },
  {
   "cell_type": "code",
   "execution_count": 8,
   "metadata": {},
   "outputs": [],
   "source": [
    "def MetaLR(train_data, r, test_data):\n",
    "    \n",
    "    T = len(train_data)\n",
    "    d = train_data[0][0].shape[1]\n",
    "    \n",
    "    M_est = MoM(train_data)\n",
    "    B1, B2 = rPCA(M_est, r)\n",
    "    \n",
    "    X,y = test_data\n",
    "    X_low = X @ B1\n",
    "    alpha_LR = LR((X_low, y))\n",
    "    beta_LR = B1 @ alpha_LR\n",
    "    \n",
    "    alpha_RR = ridge_regression((X_low, y))\n",
    "    beta_RR = B1 @ alpha_RR\n",
    "    \n",
    "    return B1, beta_LR, beta_RR"
   ]
  },
  {
   "cell_type": "code",
   "execution_count": 9,
   "metadata": {},
   "outputs": [],
   "source": [
    "def LR(test_data):\n",
    "    \n",
    "    X, y = test_data\n",
    "    beta_LR = la.pinv((X.T @ X)) @ X.T @ y\n",
    "    \n",
    "    return beta_LR"
   ]
  },
  {
   "cell_type": "code",
   "execution_count": 10,
   "metadata": {},
   "outputs": [],
   "source": [
    "def ridge_regression(test_data):\n",
    "    \n",
    "    X, y = test_data\n",
    "    reg = RidgeCV(alphas=[1e-3, 1e-2, 1e-1, 1, 10], fit_intercept=False)\n",
    "    reg.fit(test_data[0], test_data[1])\n",
    "\n",
    "    return reg.coef_"
   ]
  },
  {
   "cell_type": "code",
   "execution_count": 11,
   "metadata": {},
   "outputs": [],
   "source": [
    "@ray.remote\n",
    "def run_expt(d, r, T, train_n, test_n):\n",
    "    \n",
    "    #mkl.set_num_threads(1)\n",
    "    train_data, B, train_alphas = gen_train_model(d=d, r=r, T=T, train_n=train_n)\n",
    "    test_data, alpha_test = gen_test_model(d, r, B, test_n)\n",
    "    B_meta, beta_meta_LR, beta_meta_RR = MetaLR(train_data, r, test_data)\n",
    "    beta_LR = LR(test_data)\n",
    "    beta_RR = ridge_regression(test_data)\n",
    "\n",
    "    beta_true = B @ alpha_test\n",
    "\n",
    "    return np.linalg.norm(beta_meta_LR-beta_true), np.linalg.norm(beta_meta_RR-beta_true), np.linalg.norm(beta_LR-beta_true), np.linalg.norm(beta_RR-beta_true)"
   ]
  },
  {
   "cell_type": "code",
   "execution_count": 12,
   "metadata": {},
   "outputs": [],
   "source": [
    "def run_parallel_expt(d, r, T, train_n, test_n, reps):\n",
    "    \n",
    "    meta_LR_errs=[]\n",
    "    meta_RR_errs=[]\n",
    "    LR_errs=[]\n",
    "    ridge_errs=[]\n",
    "\n",
    "    data = ray.get([run_expt.remote(d, r, T, train_n, test_n) for num in range(reps)])\n",
    "    meta_LR_errs, meta_RR_errs, LR_errs, ridge_errs = zip(*data)\n",
    "    \n",
    "    return meta_LR_errs, meta_RR_errs, LR_errs, ridge_errs"
   ]
  },
  {
   "cell_type": "code",
   "execution_count": 13,
   "metadata": {},
   "outputs": [],
   "source": [
    "d=250\n",
    "r=5\n",
    "train_n=50\n",
    "test_n=500\n",
    "reps=50"
   ]
  },
  {
   "cell_type": "code",
   "execution_count": 14,
   "metadata": {},
   "outputs": [],
   "source": [
    "T_list = [200, 400, 800, 1600, 3200, 6400, 12800, 12800*2]"
   ]
  },
  {
   "cell_type": "code",
   "execution_count": 15,
   "metadata": {},
   "outputs": [],
   "source": [
    "def collect_data(d, r, T_list, train_n, test_n, reps):\n",
    "    \n",
    "    metaLRmus=[]\n",
    "    metaLRstd=[]\n",
    "    \n",
    "    metaRRmus=[]\n",
    "    metaRRstd=[]\n",
    "    \n",
    "    LRmus=[]\n",
    "    LRstd=[]\n",
    "    \n",
    "    ridgemus=[]\n",
    "    ridgestd=[]\n",
    "    \n",
    "    for t in T_list:\n",
    "        print(t)\n",
    "        meta_LR_errs, meta_RR_errs, LR_errs, ridge_errs = run_parallel_expt(d, r, t, train_n, test_n, reps)\n",
    "\n",
    "        metaLRmus.append(np.mean(meta_LR_errs))\n",
    "        metaLRstd.append(np.std(meta_LR_errs)) \n",
    "\n",
    "        metaRRmus.append(np.mean(meta_RR_errs))\n",
    "        metaRRstd.append(np.std(meta_RR_errs)) \n",
    "\n",
    "\n",
    "        LRmus.append(np.mean(LR_errs))\n",
    "        LRstd.append(np.std(LR_errs)) \n",
    "\n",
    "        ridgemus.append(np.mean(ridge_errs))\n",
    "        ridgestd.append(np.std(ridge_errs)) \n",
    "        \n",
    "    return (metaLRmus, metaLRstd), (metaRRmus, metaRRstd), (LRmus, LRstd), (ridgemus, ridgestd)"
   ]
  },
  {
   "cell_type": "code",
   "execution_count": 16,
   "metadata": {},
   "outputs": [
    {
     "name": "stdout",
     "output_type": "stream",
     "text": [
      "200\n",
      "400\n",
      "800\n",
      "1600\n",
      "3200\n",
      "6400\n",
      "12800\n",
      "25600\n"
     ]
    }
   ],
   "source": [
    "meta_LR_errs, meta_RR_errs, LR_errs, ridge_errs = collect_data(d, r, T_list, train_n, test_n, reps)"
   ]
  },
  {
   "cell_type": "code",
   "execution_count": 17,
   "metadata": {},
   "outputs": [],
   "source": [
    "save_data = {\"meta_LR_errs\" : meta_LR_errs, \"meta_RR_errs\" :  meta_RR_errs, \"LR_errs\" : LR_errs, \"ridge_errs\" : ridge_errs}"
   ]
  },
  {
   "cell_type": "code",
   "execution_count": 18,
   "metadata": {},
   "outputs": [],
   "source": [
    "save_data[\"T_list\"] =  T_list\n",
    "save_data[\"d\"] = d\n",
    "save_data[\"r\"] = r\n",
    "save_data[\"train_n\"] = train_n\n",
    "save_data[\"test_n\"] = test_n\n",
    "save_data[\"reps\"] = reps"
   ]
  },
  {
   "cell_type": "code",
   "execution_count": 19,
   "metadata": {},
   "outputs": [
    {
     "data": {
      "text/plain": [
       "([0.9264854523960608,\n",
       "  0.8922002608193322,\n",
       "  0.765839597383465,\n",
       "  0.5679277123271294,\n",
       "  0.4220414105474616,\n",
       "  0.304358314761279,\n",
       "  0.21582544763254174,\n",
       "  0.17455443231034262],\n",
       " [0.3014498912022357,\n",
       "  0.29950957049521343,\n",
       "  0.2607231340474149,\n",
       "  0.1748487069565234,\n",
       "  0.13963699046275063,\n",
       "  0.09523098115684553,\n",
       "  0.05429350945721333,\n",
       "  0.039560454963484766])"
      ]
     },
     "execution_count": 19,
     "metadata": {},
     "output_type": "execute_result"
    }
   ],
   "source": [
    "meta_LR_errs"
   ]
  },
  {
   "cell_type": "code",
   "execution_count": 20,
   "metadata": {},
   "outputs": [
    {
     "data": {
      "text/plain": [
       "([1.013992320106808,\n",
       "  0.9921867798552348,\n",
       "  0.9977008597166089,\n",
       "  1.0046957719814231,\n",
       "  0.9935672267783785,\n",
       "  1.0068740897589308,\n",
       "  0.9973984088280997,\n",
       "  0.9819730986244446],\n",
       " [0.06957946777209406,\n",
       "  0.06283619283589094,\n",
       "  0.060839528814186576,\n",
       "  0.06266060419149605,\n",
       "  0.06787414676619481,\n",
       "  0.06611949642184788,\n",
       "  0.0638938508903859,\n",
       "  0.065508098814329])"
      ]
     },
     "execution_count": 20,
     "metadata": {},
     "output_type": "execute_result"
    }
   ],
   "source": [
    "LR_errs"
   ]
  },
  {
   "cell_type": "code",
   "execution_count": 21,
   "metadata": {},
   "outputs": [],
   "source": [
    "params = \"d=\"+str(d)+\",r=\"+str(r)+\",train_n=\"+str(train_n)+\",test_n=\"+str(test_n)"
   ]
  },
  {
   "cell_type": "code",
   "execution_count": 22,
   "metadata": {},
   "outputs": [],
   "source": [
    "file_name = \"Meta,\"+str(params)+\".pickle\"\n",
    "folder_name = \"Data\"\n",
    "file_path = os.path.join(folder_name, file_name)\n",
    "pickle.dump(save_data, open(file_path, \"wb\"))"
   ]
  },
  {
   "cell_type": "code",
   "execution_count": null,
   "metadata": {},
   "outputs": [],
   "source": []
  }
 ],
 "metadata": {
  "kernelspec": {
   "display_name": "Python 3",
   "language": "python",
   "name": "python3"
  },
  "language_info": {
   "codemirror_mode": {
    "name": "ipython",
    "version": 3
   },
   "file_extension": ".py",
   "mimetype": "text/x-python",
   "name": "python",
   "nbconvert_exporter": "python",
   "pygments_lexer": "ipython3",
   "version": "3.6.8"
  }
 },
 "nbformat": 4,
 "nbformat_minor": 2
}
