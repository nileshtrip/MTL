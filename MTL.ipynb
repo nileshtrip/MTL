{
 "cells": [
  {
   "cell_type": "code",
   "execution_count": 1,
   "metadata": {
    "collapsed": true
   },
   "outputs": [],
   "source": [
    "import numpy as np\n",
    "import ray\n",
    "import scipy\n",
    "import math\n",
    "import datetime\n",
    "#import mkl\n",
    "import numpy.linalg as la\n",
    "import os\n",
    "from sklearn.linear_model import RidgeCV\n",
    "import pickle"
   ]
  },
  {
   "cell_type": "code",
   "execution_count": 2,
   "metadata": {
    "collapsed": false,
    "scrolled": true
   },
   "outputs": [
    {
     "name": "stderr",
     "output_type": "stream",
     "text": [
      "2020-01-21 11:16:10,096\tINFO node.py:469 -- Process STDOUT and STDERR is being redirected to /tmp/ray/session_2020-01-21_11-16-10_19349/logs.\n",
      "2020-01-21 11:16:10,206\tINFO services.py:407 -- Waiting for redis server at 127.0.0.1:37404 to respond...\n",
      "2020-01-21 11:16:10,325\tINFO services.py:407 -- Waiting for redis server at 127.0.0.1:45969 to respond...\n",
      "2020-01-21 11:16:10,330\tINFO services.py:804 -- Starting Redis shard with 10.0 GB max memory.\n",
      "2020-01-21 11:16:10,348\tINFO node.py:483 -- Process STDOUT and STDERR is being redirected to /tmp/ray/session_2020-01-21_11-16-10_19349/logs.\n",
      "2020-01-21 11:16:10,351\tWARNING services.py:1279 -- Warning: Capping object memory store to 20.0GB. To increase this further, specify `object_store_memory` when calling ray.init() or ray start.\n",
      "2020-01-21 11:16:10,353\tINFO services.py:1427 -- Starting the Plasma object store with 20.0 GB memory using /dev/shm.\n"
     ]
    },
    {
     "data": {
      "text/plain": [
       "{'node_ip_address': '169.229.48.80',\n",
       " 'redis_address': '169.229.48.80:37404',\n",
       " 'object_store_address': '/tmp/ray/session_2020-01-21_11-16-10_19349/sockets/plasma_store',\n",
       " 'raylet_socket_name': '/tmp/ray/session_2020-01-21_11-16-10_19349/sockets/raylet',\n",
       " 'webui_url': None}"
      ]
     },
     "execution_count": 2,
     "metadata": {},
     "output_type": "execute_result"
    }
   ],
   "source": [
    "ray.init(num_cpus=48, redis_password=\"123456\")"
   ]
  },
  {
   "cell_type": "code",
   "execution_count": 3,
   "metadata": {
    "collapsed": true
   },
   "outputs": [],
   "source": [
    "def eigs(M):\n",
    "    \n",
    "    eigenValues, eigenVectors = la.eig(M)\n",
    "\n",
    "    idx = eigenValues.argsort()[::-1]   \n",
    "    eigenValues = eigenValues[idx]\n",
    "    eigenVectors = eigenVectors[:,idx]\n",
    "    \n",
    "    return eigenValues, eigenVectors"
   ]
  },
  {
   "cell_type": "code",
   "execution_count": 4,
   "metadata": {
    "collapsed": true
   },
   "outputs": [],
   "source": [
    "def gen_train_model(d, r, T, train_n):\n",
    "    \n",
    "    u, s, v = la.svd(np.random.normal(size=(d, r)))\n",
    "    B = u[:, :r]\n",
    "    \n",
    "    train_alphas = [np.random.normal(size=r, scale=1/math.sqrt(r)) for i in range(T)]\n",
    "    train_data=[]\n",
    "    for i in range(T):\n",
    "        X=np.random.normal(size=(train_n, d))\n",
    "        y = X @ B @ train_alphas[i] + np.random.normal(size=train_n)\n",
    "        train_data.append((X, y))\n",
    "        \n",
    "    return train_data, B, train_alphas"
   ]
  },
  {
   "cell_type": "code",
   "execution_count": 5,
   "metadata": {
    "collapsed": true
   },
   "outputs": [],
   "source": [
    "def gen_test_model(d, r, B, test_n):\n",
    "    \n",
    "    alpha = np.random.normal(size=r, scale=1/math.sqrt(r))\n",
    "\n",
    "    X=np.random.normal(size=(test_n, d))\n",
    "    y = X @ B @ alpha + np.random.normal(size=test_n)\n",
    "        \n",
    "    return (X, y), alpha"
   ]
  },
  {
   "cell_type": "code",
   "execution_count": 6,
   "metadata": {
    "collapsed": true
   },
   "outputs": [],
   "source": [
    "def MoM(train_data):\n",
    "    \n",
    "    T = len(train_data)\n",
    "    d = train_data[0][0].shape[1]\n",
    "    \n",
    "    total_n=0\n",
    "    M = np.zeros(shape=(d, d))\n",
    "    for i in range(T):\n",
    "        data = train_data[i]\n",
    "        X, y = data\n",
    "        num = y.shape[0]\n",
    "        total_n += num\n",
    "        scaled_X = (X.T * y).T\n",
    "        M += (scaled_X).T @ scaled_X\n",
    "    M = 1/float(total_n) * M\n",
    "    \n",
    "    return M"
   ]
  },
  {
   "cell_type": "code",
   "execution_count": 6,
   "metadata": {
    "collapsed": false
   },
   "outputs": [],
   "source": [
    "def grad(train_data, B, V):\n",
    "    \n",
    "    T = len(train_data)\n",
    "    d = train_data[0][0].shape[1]\n",
    "    n = train_data[0][1].shape\n",
    "    \n",
    "    grad_B = np.zeros(B.shape)\n",
    "    grad_V = np.zeros(V.shape)\n",
    "    for t in range(T):\n",
    "        X, y = train_data(t)\n",
    "        grad_B += -1/(n*d)*(y @ X @ V[t, :] + X.T @ X @ B @ (V[t, :] @ V[t, :].T))\n",
    "        \n",
    "    for t in range(T):\n",
    "        X, y = train_data(t)\n",
    "        grad_V[t, :] = 1/(n*d)*(-y @ X @ B + V[t, :].T @ B.T @ X.T @ X @ B)\n",
    "        \n",
    "    grad_B += 4 * B @ B.T @ B - 2 * B @ V.T @ V\n",
    "    grad_V += 4 * V @ V.T @ V - 2 * V @ U.T @ U\n",
    "        \n",
    "    return grad_B, grad_V"
   ]
  },
  {
   "cell_type": "code",
   "execution_count": 7,
   "metadata": {
    "collapsed": true
   },
   "outputs": [],
   "source": [
    "def val(train_data, B, V):\n",
    "    \n",
    "    T = len(train_data)\n",
    "    d = train_data[0][0].shape[1]\n",
    "    n = train_data[0][1].shape\n",
    "    \n",
    "    val=0\n",
    "    for t in range(T):\n",
    "        X, y = train_data(t)\n",
    "        val += 1/(2*n*d)*np.linalg.norm(y-X @ B @ V[t, :],2)**2\n",
    "    \n",
    "    val+=1/8*np.linalg.norm(U.T @ U - V.T @ V)**2\n",
    "                            \n",
    "    return val"
   ]
  },
  {
   "cell_type": "code",
   "execution_count": 9,
   "metadata": {
    "collapsed": true
   },
   "outputs": [],
   "source": [
    "def run_GD(train_data, B, V, eta, iters):\n",
    "    \n",
    "    T = len(train_data)\n",
    "    d = train_data[0][0].shape[1]\n",
    "    n = train_data[0][1].shape\n",
    "    \n",
    "    vals = []\n",
    "    for i in iters:\n",
    "        B -= eta*grad(train_data, B, V)\n",
    "        V -= eta*grad(train_data, B, V)\n",
    "        vals.append(val(train_data, B, V))\n",
    "        \n",
    "\n",
    "    return B, V, vals"
   ]
  },
  {
   "cell_type": "code",
   "execution_count": 7,
   "metadata": {
    "collapsed": true
   },
   "outputs": [],
   "source": [
    "def rPCA(M, r):\n",
    "    \n",
    "    eigVals, eigVecs = eigs(M)\n",
    "    \n",
    "    return eigVecs[:, :r], eigVecs[:, r:]"
   ]
  },
  {
   "cell_type": "code",
   "execution_count": 8,
   "metadata": {
    "collapsed": true
   },
   "outputs": [],
   "source": [
    "def MetaLR(train_data, r, test_data):\n",
    "    \n",
    "    T = len(train_data)\n",
    "    d = train_data[0][0].shape[1]\n",
    "    \n",
    "    M_est = MoM(train_data)\n",
    "    B1, B2 = rPCA(M_est, r)\n",
    "    \n",
    "    X,y = test_data\n",
    "    X_low = X @ B1\n",
    "    alpha_LR = LR((X_low, y))\n",
    "    beta_LR = B1 @ alpha_LR\n",
    "    \n",
    "    alpha_RR = ridge_regression((X_low, y))\n",
    "    beta_RR = B1 @ alpha_RR\n",
    "    \n",
    "    return B1, beta_LR, beta_RR"
   ]
  },
  {
   "cell_type": "code",
   "execution_count": 9,
   "metadata": {
    "collapsed": true
   },
   "outputs": [],
   "source": [
    "def LR(test_data):\n",
    "    \n",
    "    X, y = test_data\n",
    "    beta_LR = la.pinv((X.T @ X)) @ X.T @ y\n",
    "    \n",
    "    return beta_LR"
   ]
  },
  {
   "cell_type": "code",
   "execution_count": 10,
   "metadata": {
    "collapsed": true
   },
   "outputs": [],
   "source": [
    "def ridge_regression(test_data):\n",
    "    \n",
    "    X, y = test_data\n",
    "    reg = RidgeCV(alphas=[1e-3, 1e-2, 1e-1, 1, 10], fit_intercept=False)\n",
    "    reg.fit(test_data[0], test_data[1])\n",
    "\n",
    "    return reg.coef_"
   ]
  },
  {
   "cell_type": "code",
   "execution_count": 11,
   "metadata": {
    "collapsed": true
   },
   "outputs": [],
   "source": [
    "@ray.remote\n",
    "def run_expt(d, r, T, train_n, test_n):\n",
    "    \n",
    "    #mkl.set_num_threads(1)\n",
    "    train_data, B, train_alphas = gen_train_model(d=d, r=r, T=T, train_n=train_n)\n",
    "    test_data, alpha_test = gen_test_model(d, r, B, test_n)\n",
    "    B_meta, beta_meta_LR, beta_meta_RR = MetaLR(train_data, r, test_data)\n",
    "    beta_LR = LR(test_data)\n",
    "    beta_RR = ridge_regression(test_data)\n",
    "\n",
    "    beta_true = B @ alpha_test\n",
    "\n",
    "    return np.linalg.norm(beta_meta_LR-beta_true), np.linalg.norm(beta_meta_RR-beta_true), np.linalg.norm(beta_LR-beta_true), np.linalg.norm(beta_RR-beta_true)"
   ]
  },
  {
   "cell_type": "code",
   "execution_count": 12,
   "metadata": {
    "collapsed": true
   },
   "outputs": [],
   "source": [
    "def run_parallel_expt(d, r, T, train_n, test_n, reps):\n",
    "    \n",
    "    meta_LR_errs=[]\n",
    "    meta_RR_errs=[]\n",
    "    LR_errs=[]\n",
    "    ridge_errs=[]\n",
    "\n",
    "    data = ray.get([run_expt.remote(d, r, T, train_n, test_n) for num in range(reps)])\n",
    "    meta_LR_errs, meta_RR_errs, LR_errs, ridge_errs = zip(*data)\n",
    "    \n",
    "    return meta_LR_errs, meta_RR_errs, LR_errs, ridge_errs"
   ]
  },
  {
   "cell_type": "code",
   "execution_count": null,
   "metadata": {
    "collapsed": true
   },
   "outputs": [],
   "source": [
    "d=250\n",
    "r=5\n",
    "train_n=50\n",
    "test_n=1000\n",
    "reps=50"
   ]
  },
  {
   "cell_type": "code",
   "execution_count": null,
   "metadata": {
    "collapsed": true
   },
   "outputs": [],
   "source": [
    "T_list = [200, 400, 800, 1600, 3200, 6400, 12800, 12800*2]"
   ]
  },
  {
   "cell_type": "code",
   "execution_count": null,
   "metadata": {
    "collapsed": true
   },
   "outputs": [],
   "source": [
    "def collect_data(d, r, T_list, train_n, test_n, reps):\n",
    "    \n",
    "    metaLRmus=[]\n",
    "    metaLRstd=[]\n",
    "    \n",
    "    metaRRmus=[]\n",
    "    metaRRstd=[]\n",
    "\n",
    "    LRmus=[]\n",
    "    LRstd=[]\n",
    "    \n",
    "    ridgemus=[]\n",
    "    ridgestd=[]\n",
    "    \n",
    "    for t in T_list:\n",
    "        print(t)\n",
    "        meta_LR_errs, meta_RR_errs, LR_errs, ridge_errs = run_parallel_expt(d, r, t, train_n, test_n, reps)\n",
    "\n",
    "        metaLRmus.append(np.mean(meta_LR_errs))\n",
    "        metaLRstd.append(np.std(meta_LR_errs)) \n",
    "\n",
    "        metaRRmus.append(np.mean(meta_RR_errs))\n",
    "        metaRRstd.append(np.std(meta_RR_errs)) \n",
    "\n",
    "\n",
    "        LRmus.append(np.mean(LR_errs))\n",
    "        LRstd.append(np.std(LR_errs)) \n",
    "\n",
    "        ridgemus.append(np.mean(ridge_errs))\n",
    "        ridgestd.append(np.std(ridge_errs)) \n",
    "        \n",
    "    return (metaLRmus, metaLRstd), (metaRRmus, metaRRstd), (LRmus, LRstd), (ridgemus, ridgestd)"
   ]
  },
  {
   "cell_type": "code",
   "execution_count": null,
   "metadata": {
    "collapsed": true
   },
   "outputs": [],
   "source": [
    "meta_LR_errs, meta_RR_errs, LR_errs, ridge_errs = collect_data(d, r, T_list, train_n, test_n, reps)"
   ]
  },
  {
   "cell_type": "code",
   "execution_count": null,
   "metadata": {
    "collapsed": true
   },
   "outputs": [],
   "source": [
    "save_data = {\"meta_LR_errs\" : meta_LR_errs, \"meta_RR_errs\" :  meta_RR_errs, \"LR_errs\" : LR_errs, \"ridge_errs\" : ridge_errs}"
   ]
  },
  {
   "cell_type": "code",
   "execution_count": null,
   "metadata": {
    "collapsed": true
   },
   "outputs": [],
   "source": [
    "save_data[\"T_list\"] =  T_list\n",
    "save_data[\"d\"] = d\n",
    "save_data[\"r\"] = r\n",
    "save_data[\"train_n\"] = train_n\n",
    "save_data[\"test_n\"] = test_n\n",
    "save_data[\"reps\"] = reps"
   ]
  },
  {
   "cell_type": "code",
   "execution_count": null,
   "metadata": {
    "collapsed": true
   },
   "outputs": [],
   "source": [
    "meta_LR_errs"
   ]
  },
  {
   "cell_type": "code",
   "execution_count": null,
   "metadata": {
    "collapsed": true
   },
   "outputs": [],
   "source": [
    "LR_errs"
   ]
  },
  {
   "cell_type": "code",
   "execution_count": null,
   "metadata": {
    "collapsed": true
   },
   "outputs": [],
   "source": [
    "params = \"d=\"+str(d)+\",r=\"+str(r)+\",train_n=\"+str(train_n)+\",test_n=\"+str(test_n)"
   ]
  },
  {
   "cell_type": "code",
   "execution_count": null,
   "metadata": {
    "collapsed": true
   },
   "outputs": [],
   "source": [
    "file_name = \"Meta,\"+str(params)+\".pickle\"\n",
    "folder_name = \"Data\"\n",
    "file_path = os.path.join(folder_name, file_name)\n",
    "pickle.dump(save_data, open(file_path, \"wb\"))"
   ]
  },
  {
   "cell_type": "code",
   "execution_count": null,
   "metadata": {
    "collapsed": true
   },
   "outputs": [],
   "source": []
  },
  {
   "cell_type": "code",
   "execution_count": 13,
   "metadata": {
    "collapsed": true
   },
   "outputs": [],
   "source": [
    "d=250\n",
    "r=5\n",
    "T=5\n",
    "test_n=50\n",
    "reps=50"
   ]
  },
  {
   "cell_type": "code",
   "execution_count": 14,
   "metadata": {
    "collapsed": true
   },
   "outputs": [],
   "source": [
    "train_n_list = [200, 400, 800, 1600, 3200, 6400, 12800, 12800*2, 12800*4, 12800*8]"
   ]
  },
  {
   "cell_type": "code",
   "execution_count": 15,
   "metadata": {
    "collapsed": true
   },
   "outputs": [],
   "source": [
    "def collect_data_two(d, r, T, train_n_list, test_n, reps):\n",
    "    \n",
    "    metaLRmus=[]\n",
    "    metaLRstd=[]\n",
    "    \n",
    "    metaRRmus=[]\n",
    "    metaRRstd=[]\n",
    "\n",
    "    LRmus=[]\n",
    "    LRstd=[]\n",
    "    \n",
    "    ridgemus=[]\n",
    "    ridgestd=[]\n",
    "    \n",
    "    for train_n in train_n_list:\n",
    "        print(train_n)\n",
    "        meta_LR_errs, meta_RR_errs, LR_errs, ridge_errs = run_parallel_expt(d, r, T, train_n, test_n, reps)\n",
    "\n",
    "        metaLRmus.append(np.mean(meta_LR_errs))\n",
    "        metaLRstd.append(np.std(meta_LR_errs)) \n",
    "\n",
    "        metaRRmus.append(np.mean(meta_RR_errs))\n",
    "        metaRRstd.append(np.std(meta_RR_errs)) \n",
    "\n",
    "\n",
    "        LRmus.append(np.mean(LR_errs))\n",
    "        LRstd.append(np.std(LR_errs)) \n",
    "\n",
    "        ridgemus.append(np.mean(ridge_errs))\n",
    "        ridgestd.append(np.std(ridge_errs)) \n",
    "        \n",
    "    return (metaLRmus, metaLRstd), (metaRRmus, metaRRstd), (LRmus, LRstd), (ridgemus, ridgestd)"
   ]
  },
  {
   "cell_type": "code",
   "execution_count": 16,
   "metadata": {
    "collapsed": false
   },
   "outputs": [
    {
     "name": "stdout",
     "output_type": "stream",
     "text": [
      "200\n",
      "400\n",
      "800\n",
      "1600\n",
      "3200\n",
      "6400\n",
      "12800\n",
      "25600\n",
      "51200\n",
      "102400\n"
     ]
    }
   ],
   "source": [
    "meta_LR_errs, meta_RR_errs, LR_errs, ridge_errs = collect_data_two(d, r, T, train_n_list, test_n, reps)"
   ]
  },
  {
   "cell_type": "code",
   "execution_count": 17,
   "metadata": {
    "collapsed": true
   },
   "outputs": [],
   "source": [
    "save_data = {\"meta_LR_errs\" : meta_LR_errs, \"meta_RR_errs\" :  meta_RR_errs, \"LR_errs\" : LR_errs, \"ridge_errs\" : ridge_errs}"
   ]
  },
  {
   "cell_type": "code",
   "execution_count": 18,
   "metadata": {
    "collapsed": true
   },
   "outputs": [],
   "source": [
    "save_data[\"train_n_list\"] =  train_n_list\n",
    "save_data[\"d\"] = d\n",
    "save_data[\"r\"] = r\n",
    "save_data[\"T\"] = T\n",
    "save_data[\"test_n\"] = test_n\n",
    "save_data[\"reps\"] = reps"
   ]
  },
  {
   "cell_type": "code",
   "execution_count": 19,
   "metadata": {
    "collapsed": false
   },
   "outputs": [
    {
     "data": {
      "text/plain": [
       "([1.0403261497819054,\n",
       "  1.0322152738166275,\n",
       "  1.0222502992773077,\n",
       "  0.9857749422854022,\n",
       "  0.8854153674462011,\n",
       "  0.8710563454429616,\n",
       "  0.8676156939695596,\n",
       "  0.7956075758343925,\n",
       "  0.7416193543967622,\n",
       "  0.6799367561980745],\n",
       " [0.2809080890711224,\n",
       "  0.29384769557973134,\n",
       "  0.2963589364912514,\n",
       "  0.29306850185057737,\n",
       "  0.2223742413441995,\n",
       "  0.2751128933854435,\n",
       "  0.299820979095013,\n",
       "  0.2458481880314302,\n",
       "  0.20463032186848037,\n",
       "  0.24034387922623493])"
      ]
     },
     "execution_count": 19,
     "metadata": {},
     "output_type": "execute_result"
    }
   ],
   "source": [
    "meta_LR_errs"
   ]
  },
  {
   "cell_type": "code",
   "execution_count": 20,
   "metadata": {
    "collapsed": false
   },
   "outputs": [
    {
     "data": {
      "text/plain": [
       "([0.9943879282685006,\n",
       "  0.9964168895640239,\n",
       "  1.0168620572364815,\n",
       "  0.993445348282015,\n",
       "  0.9707447530941228,\n",
       "  0.9926002155230571,\n",
       "  1.0336180171220446,\n",
       "  0.9778886590510113,\n",
       "  0.97184120635318,\n",
       "  0.992397619828775],\n",
       " [0.22677043311723694,\n",
       "  0.2360985513835468,\n",
       "  0.24266581846039484,\n",
       "  0.2439514421771052,\n",
       "  0.2132004688989472,\n",
       "  0.22720370465828513,\n",
       "  0.28824642849312837,\n",
       "  0.23412770699383587,\n",
       "  0.1835103607820434,\n",
       "  0.22725914773773329])"
      ]
     },
     "execution_count": 20,
     "metadata": {},
     "output_type": "execute_result"
    }
   ],
   "source": [
    "LR_errs"
   ]
  },
  {
   "cell_type": "code",
   "execution_count": 21,
   "metadata": {
    "collapsed": true
   },
   "outputs": [],
   "source": [
    "params = \"d=\"+str(d)+\",r=\"+str(r)+\",T=\"+str(T)+\",test_n=\"+str(test_n)"
   ]
  },
  {
   "cell_type": "code",
   "execution_count": 22,
   "metadata": {
    "collapsed": true
   },
   "outputs": [],
   "source": [
    "file_name = \"Meta,\"+str(params)+\".pickle\"\n",
    "folder_name = \"Data\"\n",
    "file_path = os.path.join(folder_name, file_name)\n",
    "pickle.dump(save_data, open(file_path, \"wb\"))"
   ]
  },
  {
   "cell_type": "code",
   "execution_count": null,
   "metadata": {
    "collapsed": true
   },
   "outputs": [],
   "source": []
  }
 ],
 "metadata": {
  "kernelspec": {
   "display_name": "Python 3",
   "language": "python",
   "name": "python3"
  },
  "language_info": {
   "codemirror_mode": {
    "name": "ipython",
    "version": 3
   },
   "file_extension": ".py",
   "mimetype": "text/x-python",
   "name": "python",
   "nbconvert_exporter": "python",
   "pygments_lexer": "ipython3",
   "version": "3.6.8"
  }
 },
 "nbformat": 4,
 "nbformat_minor": 2
}
