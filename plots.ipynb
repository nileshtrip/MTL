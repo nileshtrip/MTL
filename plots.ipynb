{
 "cells": [
  {
   "cell_type": "code",
   "execution_count": null,
   "metadata": {},
   "outputs": [],
   "source": [
    "import matplotlib\n",
    "import matplotlib.pyplot as plt\n",
    "matplotlib.rc('text', usetex=True)"
   ]
  },
  {
   "cell_type": "code",
   "execution_count": null,
   "metadata": {},
   "outputs": [],
   "source": [
    "def plot_synthetic(T_list, d, r, train_n, test_n, meta_LR_errs, meta_RR_errs, LR_errs, ridge_errs):\n",
    "    \n",
    "    plt.close()\n",
    "    \n",
    "    plt.errorbar(T_list, meta_LR_errs[0], yerr=meta_LR_errs[1], color=\"b\", marker=\"x\", label= r\"meta-LR\")\n",
    "    plt.errorbar(T_list, LR_errs[0], yerr=LR_errs[1],  color=\"r\", marker=\"*\", label= r\"LR\")\n",
    "    #plt.errorbar(T_list, JM_false, yerr=JM_false_std, color=\"b\", marker=\"+\", label= r\"JM ($\\lambda$=Theory)\")\n",
    "            \n",
    "    plt.legend(prop={'size': 14})\n",
    "    plt.xlabel(\"Number of Tasks\", fontsize=16)\n",
    "    plt.ylabel(r\"Log Average Prediction RMSRE\", fontsize=16)\n",
    "    \n",
    "    fname=\"synthetic\"+\",d=\"+str(d)+\",r=\"+str(r)+\",train_n=\"+str(train_n)+\",test_n=\"+str(test_n)+\".pdf\"\n",
    "    \n",
    "    folder_path=\"Plots\"\n",
    "    plt.savefig(os.path.join(folder_path, fname), bbox_inches = \"tight\")\n",
    "    #plt.show()\n",
    "    #time.sleep(2)\n",
    "    \n",
    "    return"
   ]
  },
  {
   "cell_type": "code",
   "execution_count": null,
   "metadata": {},
   "outputs": [],
   "source": [
    "plot_synthetic(T_list, d, r, train_n, test_n, meta_LR_errs, meta_RR_errs, LR_errs, ridge_errs)"
   ]
  }
 ],
 "metadata": {
  "kernelspec": {
   "display_name": "Python 3",
   "language": "python",
   "name": "python3"
  },
  "language_info": {
   "codemirror_mode": {
    "name": "ipython",
    "version": 3
   },
   "file_extension": ".py",
   "mimetype": "text/x-python",
   "name": "python",
   "nbconvert_exporter": "python",
   "pygments_lexer": "ipython3",
   "version": "3.6.8"
  }
 },
 "nbformat": 4,
 "nbformat_minor": 2
}
