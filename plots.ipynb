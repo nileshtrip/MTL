{
 "cells": [
  {
   "cell_type": "code",
   "execution_count": 1,
   "metadata": {
    "collapsed": true
   },
   "outputs": [],
   "source": [
    "import matplotlib\n",
    "import matplotlib.pyplot as plt\n",
    "import os\n",
    "import pickle\n",
    "matplotlib.rc('text', usetex=True)"
   ]
  },
  {
   "cell_type": "code",
   "execution_count": 2,
   "metadata": {
    "collapsed": true
   },
   "outputs": [],
   "source": [
    "def load(file):\n",
    "    \n",
    "    data = pickle.load(open(file, \"rb\"))\n",
    "    \n",
    "    return data"
   ]
  },
  {
   "cell_type": "code",
   "execution_count": 9,
   "metadata": {
    "collapsed": false
   },
   "outputs": [],
   "source": [
    "files = [os.path.join(\"Data\", i) for i in sorted(os.listdir(\"./Data\"))]"
   ]
  },
  {
   "cell_type": "code",
   "execution_count": 10,
   "metadata": {
    "collapsed": false
   },
   "outputs": [
    {
     "data": {
      "text/plain": [
       "['Data/Meta,d=250,r=5,T=5,test_n=50.pickle',\n",
       " 'Data/Meta,d=250,r=5,train_n=50,test_n=1000.pickle',\n",
       " 'Data/Meta,d=250,r=5,train_n=50,test_n=2000.pickle',\n",
       " 'Data/Meta,d=250,r=5,train_n=50,test_n=50.pickle',\n",
       " 'Data/Meta,d=250,r=5,train_n=50,test_n=500.pickle']"
      ]
     },
     "execution_count": 10,
     "metadata": {},
     "output_type": "execute_result"
    }
   ],
   "source": [
    "files"
   ]
  },
  {
   "cell_type": "code",
   "execution_count": 14,
   "metadata": {
    "collapsed": false
   },
   "outputs": [],
   "source": [
    "f1 = os.path.join(\"Data\", os.listdir(\"./Data\")[1])"
   ]
  },
  {
   "cell_type": "code",
   "execution_count": 15,
   "metadata": {
    "collapsed": true
   },
   "outputs": [],
   "source": [
    "f2 = os.path.join(\"Data\", os.listdir(\"./Data\")[2])"
   ]
  },
  {
   "cell_type": "code",
   "execution_count": 21,
   "metadata": {
    "collapsed": false
   },
   "outputs": [],
   "source": [
    "data = load(f2)"
   ]
  },
  {
   "cell_type": "code",
   "execution_count": 22,
   "metadata": {
    "collapsed": false
   },
   "outputs": [
    {
     "data": {
      "text/plain": [
       "dict_keys(['meta_LR_errs', 'meta_RR_errs', 'LR_errs', 'ridge_errs', 'T_list', 'd', 'r', 'train_n', 'test_n', 'reps'])"
      ]
     },
     "execution_count": 22,
     "metadata": {},
     "output_type": "execute_result"
    }
   ],
   "source": [
    "data.keys()"
   ]
  },
  {
   "cell_type": "code",
   "execution_count": 23,
   "metadata": {
    "collapsed": false
   },
   "outputs": [],
   "source": [
    "T_list = data[\"T_list\"]\n",
    "d = data[\"d\"]\n",
    "r = data[\"r\"]\n",
    "train_n = data[\"train_n\"]\n",
    "test_n = data[\"test_n\"]\n",
    "meta_LR_errs = data[\"meta_LR_errs\"]\n",
    "meta_RR_errs = data[\"meta_RR_errs\"]\n",
    "LR_errs = data[\"LR_errs\"]\n",
    "ridge_errs = data[\"ridge_errs\"]"
   ]
  },
  {
   "cell_type": "code",
   "execution_count": 24,
   "metadata": {
    "collapsed": true
   },
   "outputs": [],
   "source": [
    "def plot_synthetic(T_list, d, r, train_n, test_n, meta_LR_errs, meta_RR_errs, LR_errs, ridge_errs):\n",
    "    \n",
    "    plt.close()\n",
    "    \n",
    "    plt.errorbar(T_list, meta_LR_errs[0], yerr=meta_LR_errs[1], color=\"b\", marker=\"x\", label= r\"meta-LR\")\n",
    "    plt.errorbar(T_list, LR_errs[0], yerr=LR_errs[1],  color=\"r\", marker=\"*\", label= r\"LR\")\n",
    "    #plt.errorbar(T_list, JM_false, yerr=JM_false_std, color=\"b\", marker=\"+\", label= r\"JM ($\\lambda$=Theory)\")\n",
    "            \n",
    "    plt.legend(prop={'size': 14})\n",
    "    plt.xlabel(\"Number of Tasks\", fontsize=16)\n",
    "    plt.ylabel(r\" $\\ell_2$ Parameter Error\", fontsize=16)\n",
    "    \n",
    "    fname=\"synthetic\"+\",d=\"+str(d)+\",r=\"+str(r)+\",train_n=\"+str(train_n)+\",test_n=\"+str(test_n)+\".pdf\"\n",
    "    \n",
    "    folder_path=\"Plots\"\n",
    "    plt.savefig(os.path.join(folder_path, fname), bbox_inches = \"tight\")\n",
    "    plt.show()\n",
    "    #time.sleep(2)\n",
    "    \n",
    "    return"
   ]
  },
  {
   "cell_type": "code",
   "execution_count": 25,
   "metadata": {
    "collapsed": false
   },
   "outputs": [
    {
     "data": {
      "image/png": "[encoded data removed]",
      "text/plain": [
       "<Figure size 432x288 with 1 Axes>"
      ]
     },
     "metadata": {},
     "output_type": "display_data"
    }
   ],
   "source": [
    "plot_synthetic(T_list, d, r, train_n, test_n, meta_LR_errs, meta_RR_errs, LR_errs, ridge_errs)"
   ]
  },
  {
   "cell_type": "code",
   "execution_count": 6,
   "metadata": {
    "collapsed": true
   },
   "outputs": [],
   "source": [
    "f3 = os.path.join(\"Data\", os.listdir(\"./Data\")[3])"
   ]
  },
  {
   "cell_type": "code",
   "execution_count": 7,
   "metadata": {
    "collapsed": false
   },
   "outputs": [],
   "source": [
    "data = load(f3)"
   ]
  },
  {
   "cell_type": "code",
   "execution_count": 8,
   "metadata": {
    "collapsed": false
   },
   "outputs": [
    {
     "data": {
      "text/plain": [
       "dict_keys(['meta_LR_errs', 'meta_RR_errs', 'LR_errs', 'ridge_errs', 'train_n_list', 'd', 'r', 'T', 'test_n', 'reps'])"
      ]
     },
     "execution_count": 8,
     "metadata": {},
     "output_type": "execute_result"
    }
   ],
   "source": [
    "data.keys()"
   ]
  },
  {
   "cell_type": "code",
   "execution_count": 9,
   "metadata": {
    "collapsed": true
   },
   "outputs": [],
   "source": [
    "T = data[\"T\"]\n",
    "d = data[\"d\"]\n",
    "r = data[\"r\"]\n",
    "train_n_list = data[\"train_n_list\"]\n",
    "test_n = data[\"test_n\"]\n",
    "meta_LR_errs = data[\"meta_LR_errs\"]\n",
    "meta_RR_errs = data[\"meta_RR_errs\"]\n",
    "LR_errs = data[\"LR_errs\"]\n",
    "ridge_errs = data[\"ridge_errs\"]"
   ]
  },
  {
   "cell_type": "code",
   "execution_count": 10,
   "metadata": {
    "collapsed": true
   },
   "outputs": [],
   "source": [
    "def plot_synthetic_two(T, d, r, train_n_list, test_n, meta_LR_errs, meta_RR_errs, LR_errs, ridge_errs):\n",
    "    \n",
    "    plt.close()\n",
    "    \n",
    "    plt.errorbar(train_n_list, meta_LR_errs[0], yerr=meta_LR_errs[1], color=\"b\", marker=\"x\", label= r\"meta-LR\")\n",
    "    plt.errorbar(train_n_list, LR_errs[0], yerr=LR_errs[1],  color=\"r\", marker=\"*\", label= r\"LR\")\n",
    "    #plt.errorbar(T_list, JM_false, yerr=JM_false_std, color=\"b\", marker=\"+\", label= r\"JM ($\\lambda$=Theory)\")\n",
    "            \n",
    "    plt.legend(prop={'size': 14})\n",
    "    plt.xlabel(\"Number of Training Points (per Task)\", fontsize=16)\n",
    "    plt.ylabel(r\" $\\ell_2$ Parameter Error\", fontsize=16)\n",
    "    \n",
    "    fname=\"synthetic\"+\",d=\"+str(d)+\",r=\"+str(r)+\",T=\"+str(T)+\",test_n=\"+str(test_n)+\".pdf\"\n",
    "    \n",
    "    folder_path=\"Plots\"\n",
    "    plt.savefig(os.path.join(folder_path, fname), bbox_inches = \"tight\")\n",
    "    plt.show()\n",
    "    #time.sleep(2)\n",
    "    \n",
    "    return"
   ]
  },
  {
   "cell_type": "code",
   "execution_count": 13,
   "metadata": {
    "collapsed": false
   },
   "outputs": [
    {
     "data": {
      "image/png": "[encoded data removed]",
      "text/plain": [
       "<Figure size 432x288 with 1 Axes>"
      ]
     },
     "metadata": {},
     "output_type": "display_data"
    }
   ],
   "source": [
    "plot_synthetic_two(T, d, r, train_n_list, test_n, meta_LR_errs, meta_RR_errs, LR_errs, ridge_errs)"
   ]
  },
  {
   "cell_type": "code",
   "execution_count": null,
   "metadata": {
    "collapsed": true
   },
   "outputs": [],
   "source": []
  }
 ],
 "metadata": {
  "kernelspec": {
   "display_name": "Python 3",
   "language": "python",
   "name": "python3"
  },
  "language_info": {
   "codemirror_mode": {
    "name": "ipython",
    "version": 3
   },
   "file_extension": ".py",
   "mimetype": "text/x-python",
   "name": "python",
   "nbconvert_exporter": "python",
   "pygments_lexer": "ipython3",
   "version": "3.6.8"
  }
 },
 "nbformat": 4,
 "nbformat_minor": 2
}
