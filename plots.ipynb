{
 "cells": [
  {
   "cell_type": "code",
   "execution_count": 16,
   "metadata": {
    "collapsed": true
   },
   "outputs": [],
   "source": [
    "import matplotlib\n",
    "import matplotlib.pyplot as plt\n",
    "import os\n",
    "import pickle\n",
    "matplotlib.rc('text', usetex=True)"
   ]
  },
  {
   "cell_type": "code",
   "execution_count": 17,
   "metadata": {
    "collapsed": true
   },
   "outputs": [],
   "source": [
    "def load(file):\n",
    "    \n",
    "    data = pickle.load(open(file, \"rb\"))\n",
    "    \n",
    "    return data"
   ]
  },
  {
   "cell_type": "code",
   "execution_count": 18,
   "metadata": {
    "collapsed": false
   },
   "outputs": [
    {
     "data": {
      "text/plain": [
       "['Meta,d=100,r=5,T=5,test_n=50.pickle',\n",
       " 'Meta,d=100,r=5,train_n=25,test_n=25.pickle',\n",
       " 'Meta,d=100,r=5,train_n=300,test_n=1000.pickle']"
      ]
     },
     "execution_count": 18,
     "metadata": {},
     "output_type": "execute_result"
    }
   ],
   "source": [
    "os.listdir(\"./Data\")"
   ]
  },
  {
   "cell_type": "code",
   "execution_count": 19,
   "metadata": {
    "collapsed": false
   },
   "outputs": [],
   "source": [
    "f1 = os.path.join(\"Data\", os.listdir(\"./Data\")[1])"
   ]
  },
  {
   "cell_type": "code",
   "execution_count": 20,
   "metadata": {
    "collapsed": true
   },
   "outputs": [],
   "source": [
    "f2 = os.path.join(\"Data\", os.listdir(\"./Data\")[2])"
   ]
  },
  {
   "cell_type": "code",
   "execution_count": 21,
   "metadata": {
    "collapsed": false
   },
   "outputs": [],
   "source": [
    "data = load(f2)"
   ]
  },
  {
   "cell_type": "code",
   "execution_count": 22,
   "metadata": {
    "collapsed": false
   },
   "outputs": [
    {
     "data": {
      "text/plain": [
       "dict_keys(['metaLRmom', 'metaLRfo', 'betaLR', 'sinthetamom', 'sinthetafo', 'T_list', 'd', 'r', 'train_n', 'test_n', 'reps'])"
      ]
     },
     "execution_count": 22,
     "metadata": {},
     "output_type": "execute_result"
    }
   ],
   "source": [
    "data.keys()"
   ]
  },
  {
   "cell_type": "code",
   "execution_count": 23,
   "metadata": {
    "collapsed": false
   },
   "outputs": [],
   "source": [
    "T_list = data[\"T_list\"]\n",
    "d = data[\"d\"]\n",
    "r = data[\"r\"]\n",
    "train_n = data[\"train_n\"]\n",
    "test_n = data[\"test_n\"]\n",
    "\n",
    "metaLRmom = data[\"metaLRmom\"]\n",
    "sinthetamom = data[\"sinthetamom\"]\n",
    "\n",
    "metaLRfo = data[\"metaLRfo\"]\n",
    "sinthetafo = data[\"sinthetafo\"]\n",
    "betaLR = data[\"betaLR\"]"
   ]
  },
  {
   "cell_type": "code",
   "execution_count": 24,
   "metadata": {
    "collapsed": true
   },
   "outputs": [],
   "source": [
    "def plot_synthetic(T_list, d, r, train_n, test_n, metaLRmom, metaLRfo, betaLR):\n",
    "    \n",
    "    plt.close()\n",
    "    \n",
    "    plt.errorbar(T_list, metaLRmom[0], yerr=metaLRmom[1], color=\"b\", marker=\"x\", label= r\"meta-LR-mom\")\n",
    "    plt.errorbar(T_list, metaLRfo[0], yerr=metaLRfo[1],  color=\"r\", marker=\"*\", label= r\"meta-LR-fo\")\n",
    "    plt.errorbar(T_list, betaLR[0], yerr=betaLR[1], color=\"g\", marker=\"+\", label= r\"LR\")\n",
    "            \n",
    "    plt.legend(prop={'size': 14})\n",
    "    plt.xlabel(\"Number of Tasks\", fontsize=16)\n",
    "    plt.ylabel(r\" $\\ell_2$ Parameter Error\", fontsize=16)\n",
    "    \n",
    "    fname=\"synthetic\"+\",d=\"+str(d)+\",r=\"+str(r)+\",train_n=\"+str(train_n)+\",test_n=\"+str(test_n)+\".pdf\"\n",
    "    \n",
    "    folder_path=\"Plots\"\n",
    "    plt.savefig(os.path.join(folder_path, fname), bbox_inches = \"tight\")\n",
    "    plt.show()\n",
    "    #time.sleep(2)\n",
    "    \n",
    "    return"
   ]
  },
  {
   "cell_type": "code",
   "execution_count": 25,
   "metadata": {
    "collapsed": false
   },
   "outputs": [
    {
     "data": {
      "image/png": "[encoded data removed]",
      "text/plain": [
       "<Figure size 432x288 with 1 Axes>"
      ]
     },
     "metadata": {},
     "output_type": "display_data"
    }
   ],
   "source": [
    "plot_synthetic(T_list, d, r, train_n, test_n, metaLRmom, metaLRfo, betaLR)"
   ]
  },
  {
   "cell_type": "code",
   "execution_count": 26,
   "metadata": {
    "collapsed": true
   },
   "outputs": [],
   "source": [
    "f3 = os.path.join(\"Data\", os.listdir(\"./Data\")[0])"
   ]
  },
  {
   "cell_type": "code",
   "execution_count": 27,
   "metadata": {
    "collapsed": false
   },
   "outputs": [],
   "source": [
    "data = load(f3)"
   ]
  },
  {
   "cell_type": "code",
   "execution_count": 28,
   "metadata": {
    "collapsed": false
   },
   "outputs": [
    {
     "data": {
      "text/plain": [
       "dict_keys(['metaLRmom', 'metaLRfo', 'betaLR', 'sinthetamom', 'sinthetafo', 'train_n_list', 'd', 'r', 'T', 'test_n', 'reps'])"
      ]
     },
     "execution_count": 28,
     "metadata": {},
     "output_type": "execute_result"
    }
   ],
   "source": [
    "data.keys()"
   ]
  },
  {
   "cell_type": "code",
   "execution_count": 30,
   "metadata": {
    "collapsed": true
   },
   "outputs": [],
   "source": [
    "T = data[\"T\"]\n",
    "d = data[\"d\"]\n",
    "r = data[\"r\"]\n",
    "train_n_list = data[\"train_n_list\"]\n",
    "test_n = data[\"test_n\"]\n",
    "\n",
    "metaLRmom = data[\"metaLRmom\"]\n",
    "sinthetamom = data[\"sinthetamom\"]\n",
    "\n",
    "metaLRfo = data[\"metaLRfo\"]\n",
    "sinthetafo = data[\"sinthetafo\"]\n",
    "\n",
    "betaLR = data[\"betaLR\"]"
   ]
  },
  {
   "cell_type": "code",
   "execution_count": 31,
   "metadata": {
    "collapsed": true
   },
   "outputs": [],
   "source": [
    "def plot_synthetic_two(T, d, r, train_n_list, test_n, metaLRmom, metaLRfo, betaLR):\n",
    "    \n",
    "    plt.close()\n",
    "    \n",
    "    plt.errorbar(train_n_list, metaLRmom[0], yerr=metaLRmom[1], color=\"b\", marker=\"x\", label= r\"meta-LR-mom\")\n",
    "    plt.errorbar(train_n_list, metaLRfo[0], yerr=metaLRfo[1],  color=\"r\", marker=\"*\", label= r\"meta-LR-fo\")\n",
    "    plt.errorbar(train_n_list, betaLR[0], yerr=betaLR[1], color=\"g\", marker=\"+\", label= r\"LR\")\n",
    "            \n",
    "    plt.legend(prop={'size': 14})\n",
    "    plt.xlabel(\"Number of Training Points (per Task)\", fontsize=16)\n",
    "    plt.ylabel(r\" $\\ell_2$ Parameter Error\", fontsize=16)\n",
    "    \n",
    "    fname=\"synthetic\"+\",d=\"+str(d)+\",r=\"+str(r)+\",T=\"+str(T)+\",test_n=\"+str(test_n)+\".pdf\"\n",
    "    \n",
    "    folder_path=\"Plots\"\n",
    "    plt.savefig(os.path.join(folder_path, fname), bbox_inches = \"tight\")\n",
    "    plt.show()\n",
    "    #time.sleep(2)\n",
    "    \n",
    "    return"
   ]
  },
  {
   "cell_type": "code",
   "execution_count": 33,
   "metadata": {
    "collapsed": false
   },
   "outputs": [
    {
     "data": {
      "image/png": "[encoded data removed]",
      "text/plain": [
       "<Figure size 432x288 with 1 Axes>"
      ]
     },
     "metadata": {},
     "output_type": "display_data"
    }
   ],
   "source": [
    "plot_synthetic_two(T, d, r, train_n_list, test_n, metaLRmom, metaLRfo, betaLR)"
   ]
  },
  {
   "cell_type": "code",
   "execution_count": null,
   "metadata": {
    "collapsed": true
   },
   "outputs": [],
   "source": []
  }
 ],
 "metadata": {
  "kernelspec": {
   "display_name": "Python 3",
   "language": "python",
   "name": "python3"
  },
  "language_info": {
   "codemirror_mode": {
    "name": "ipython",
    "version": 3
   },
   "file_extension": ".py",
   "mimetype": "text/x-python",
   "name": "python",
   "nbconvert_exporter": "python",
   "pygments_lexer": "ipython3",
   "version": "3.6.8"
  }
 },
 "nbformat": 4,
 "nbformat_minor": 2
}
