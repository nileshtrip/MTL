{
 "cells": [
  {
   "cell_type": "code",
   "execution_count": 24,
   "metadata": {
    "collapsed": false
   },
   "outputs": [],
   "source": [
    "import matplotlib\n",
    "import matplotlib.pyplot as plt\n",
    "import os\n",
    "import pickle\n",
    "import numpy as np\n",
    "matplotlib.rc('text', usetex=True)"
   ]
  },
  {
   "cell_type": "code",
   "execution_count": 25,
   "metadata": {
    "collapsed": true
   },
   "outputs": [],
   "source": [
    "def load(file):\n",
    "    \n",
    "    data = pickle.load(open(file, \"rb\"))\n",
    "    \n",
    "    return data"
   ]
  },
  {
   "cell_type": "code",
   "execution_count": 26,
   "metadata": {
    "collapsed": false
   },
   "outputs": [],
   "source": [
    "files = [os.path.join(\"Data\", i) for i in sorted(os.listdir(\"./Data\"))]"
   ]
  },
  {
   "cell_type": "code",
   "execution_count": 27,
   "metadata": {
    "collapsed": false
   },
   "outputs": [
    {
     "data": {
      "text/plain": [
       "['Data/Meta,d=100,r=5,T=20,test_n=50.pickle',\n",
       " 'Data/Meta,d=100,r=5,T=5,test_n=50.pickle',\n",
       " 'Data/Meta,d=100,r=5,train_n=25,test_n=25.pickle',\n",
       " 'Data/Meta,d=100,r=5,train_n=300,test_n=1000.pickle',\n",
       " 'Data/Meta,d=100,r=5,train_n=5,test_n=2500.pickle']"
      ]
     },
     "execution_count": 27,
     "metadata": {},
     "output_type": "execute_result"
    }
   ],
   "source": [
    "files"
   ]
  },
  {
   "cell_type": "code",
   "execution_count": 28,
   "metadata": {
    "collapsed": false
   },
   "outputs": [],
   "source": [
    "f1 = files[0]"
   ]
  },
  {
   "cell_type": "code",
   "execution_count": 29,
   "metadata": {
    "collapsed": true
   },
   "outputs": [],
   "source": [
    "f2 = files[1]"
   ]
  },
  {
   "cell_type": "code",
   "execution_count": 30,
   "metadata": {
    "collapsed": true
   },
   "outputs": [],
   "source": [
    "f3 = files[2]"
   ]
  },
  {
   "cell_type": "code",
   "execution_count": 31,
   "metadata": {
    "collapsed": true
   },
   "outputs": [],
   "source": [
    "f4 = files[3]"
   ]
  },
  {
   "cell_type": "code",
   "execution_count": 32,
   "metadata": {
    "collapsed": true
   },
   "outputs": [],
   "source": [
    "f5 = files[4]"
   ]
  },
  {
   "cell_type": "code",
   "execution_count": 47,
   "metadata": {
    "collapsed": false
   },
   "outputs": [],
   "source": [
    "data = load(f3)"
   ]
  },
  {
   "cell_type": "code",
   "execution_count": 48,
   "metadata": {
    "collapsed": false
   },
   "outputs": [
    {
     "data": {
      "text/plain": [
       "dict_keys(['metaLRmom', 'metaLRfo', 'betaLR', 'sinthetamom', 'sinthetafo', 'T_list', 'd', 'r', 'train_n', 'test_n', 'reps'])"
      ]
     },
     "execution_count": 48,
     "metadata": {},
     "output_type": "execute_result"
    }
   ],
   "source": [
    "data.keys()"
   ]
  },
  {
   "cell_type": "code",
   "execution_count": 49,
   "metadata": {
    "collapsed": false
   },
   "outputs": [],
   "source": [
    "T_list = data[\"T_list\"]\n",
    "d = data[\"d\"]\n",
    "r = data[\"r\"]\n",
    "train_n = data[\"train_n\"]\n",
    "test_n = data[\"test_n\"]\n",
    "\n",
    "metaLRmom = data[\"metaLRmom\"]\n",
    "sinthetamom = data[\"sinthetamom\"]\n",
    "\n",
    "metaLRfo = data[\"metaLRfo\"]\n",
    "sinthetafo = data[\"sinthetafo\"]\n",
    "betaLR = data[\"betaLR\"]"
   ]
  },
  {
   "cell_type": "code",
   "execution_count": 50,
   "metadata": {
    "collapsed": true
   },
   "outputs": [],
   "source": [
    "def plot_angles(T_list, d, r, train_n, test_n, sinthetamom, sinthetafo):\n",
    "    \n",
    "    plt.close()\n",
    "    \n",
    "    plt.errorbar(T_list, sinthetamom[0], yerr=sinthetamom[1], color=\"b\", marker=\"x\", label= r\"LF-MoM\")\n",
    "    plt.errorbar(T_list, sinthetafo[0], yerr=sinthetafo[1],  color=\"r\", marker=\"*\", label= r\"LF-FO\")\n",
    "    #plt.errorbar(T_list, betaLR[0], yerr=betaLR[1], color=\"g\", marker=\"+\", label= r\"LR\")\n",
    "            \n",
    "    plt.legend(prop={'size': 20})\n",
    "    plt.xlabel(\"Number of Tasks\", fontsize=24)\n",
    "    plt.ylabel(r\" $\\sin \\theta$\", fontsize=24)\n",
    "    \n",
    "    fname=\"angle\"+\",d=\"+str(d)+\",r=\"+str(r)+\",train_n=\"+str(train_n)+\",test_n=\"+str(test_n)+\".pdf\"\n",
    "    \n",
    "    folder_path=\"Plots\"\n",
    "    plt.savefig(os.path.join(folder_path, fname), bbox_inches = \"tight\")\n",
    "    plt.show()\n",
    "    #time.sleep(2)\n",
    "    \n",
    "    return"
   ]
  },
  {
   "cell_type": "code",
   "execution_count": 51,
   "metadata": {
    "collapsed": true
   },
   "outputs": [],
   "source": [
    "def plot_synthetic(T_list, d, r, train_n, test_n, metaLRmom, metaLRfo, betaLR):\n",
    "    \n",
    "    plt.close()\n",
    "    \n",
    "    plt.errorbar(T_list, metaLRmom[0], yerr=metaLRmom[1], color=\"b\", marker=\"x\", label= r\"meta-LR-MoM\")\n",
    "    plt.errorbar(T_list, metaLRfo[0], yerr=metaLRfo[1],  color=\"r\", marker=\"*\", label= r\"meta-LR-FO\")\n",
    "    \n",
    "    betaLRmu = np.array([np.mean(betaLR[0]) for i in range(len(T_list))])\n",
    "    betaLRsd = np.array([np.mean(betaLR[1]) for i in range(len(T_list))])\n",
    "    \n",
    "    plt.plot(T_list, betaLRmu, color=\"g\", label= r\"LR\")\n",
    "    plt.fill_between(T_list, betaLRmu+betaLRsd, betaLRmu-betaLRsd, facecolor=\"lightgreen\")\n",
    "    #plt.hlines(np.mean(betaLR[0]), xmin=T_list[0], xmax=T_list[-1], color=\"g\", label= r\"LR\")\n",
    "    #plt.errorbar(T_list, betaLR[0], yerr=betaLR[1], color=\"g\", marker=\"+\", label= r\"LR\")\n",
    "            \n",
    "    plt.legend(prop={'size': 20})\n",
    "    plt.xlabel(\"Number of Tasks\", fontsize=24)\n",
    "    plt.ylabel(r\" $\\ell_2$ Parameter Error\", fontsize=24)\n",
    "    \n",
    "    fname=\"synthetic\"+\",d=\"+str(d)+\",r=\"+str(r)+\",train_n=\"+str(train_n)+\",test_n=\"+str(test_n)+\".pdf\"\n",
    "    \n",
    "    folder_path=\"Plots\"\n",
    "    plt.savefig(os.path.join(folder_path, fname), bbox_inches = \"tight\")\n",
    "    plt.show()\n",
    "    #time.sleep(2)\n",
    "    \n",
    "    return"
   ]
  },
  {
   "cell_type": "code",
   "execution_count": 52,
   "metadata": {
    "collapsed": false
   },
   "outputs": [
    {
     "data": {
      "image/png": "[encoded data removed]",
      "text/plain": [
       "<Figure size 432x288 with 1 Axes>"
      ]
     },
     "metadata": {},
     "output_type": "display_data"
    }
   ],
   "source": [
    "plot_synthetic(T_list, d, r, train_n, test_n, metaLRmom, metaLRfo, betaLR)"
   ]
  },
  {
   "cell_type": "code",
   "execution_count": 53,
   "metadata": {
    "collapsed": false
   },
   "outputs": [
    {
     "data": {
      "image/png": "[encoded data removed]",
      "text/plain": [
       "<Figure size 432x288 with 1 Axes>"
      ]
     },
     "metadata": {},
     "output_type": "display_data"
    }
   ],
   "source": [
    "plot_angles(T_list, d, r, train_n, test_n, sinthetamom, sinthetafo)"
   ]
  },
  {
   "cell_type": "code",
   "execution_count": 61,
   "metadata": {
    "collapsed": false
   },
   "outputs": [],
   "source": [
    "data = load(f1)"
   ]
  },
  {
   "cell_type": "code",
   "execution_count": 62,
   "metadata": {
    "collapsed": false
   },
   "outputs": [
    {
     "data": {
      "text/plain": [
       "dict_keys(['metaLRmom', 'metaLRfo', 'betaLR', 'sinthetamom', 'sinthetafo', 'train_n_list', 'd', 'r', 'T', 'test_n', 'reps'])"
      ]
     },
     "execution_count": 62,
     "metadata": {},
     "output_type": "execute_result"
    }
   ],
   "source": [
    "data.keys()"
   ]
  },
  {
   "cell_type": "code",
   "execution_count": 63,
   "metadata": {
    "collapsed": true
   },
   "outputs": [],
   "source": [
    "T = data[\"T\"]\n",
    "d = data[\"d\"]\n",
    "r = data[\"r\"]\n",
    "train_n_list = data[\"train_n_list\"]\n",
    "test_n = data[\"test_n\"]\n",
    "\n",
    "metaLRmom = data[\"metaLRmom\"]\n",
    "sinthetamom = data[\"sinthetamom\"]\n",
    "\n",
    "metaLRfo = data[\"metaLRfo\"]\n",
    "sinthetafo = data[\"sinthetafo\"]\n",
    "\n",
    "betaLR = data[\"betaLR\"]"
   ]
  },
  {
   "cell_type": "code",
   "execution_count": 64,
   "metadata": {
    "collapsed": true
   },
   "outputs": [],
   "source": [
    "def plot_synthetic_two(T, d, r, train_n_list, test_n, metaLRmom, metaLRfo, betaLR):\n",
    "    \n",
    "    plt.close()\n",
    "    \n",
    "    plt.errorbar(train_n_list, metaLRmom[0], yerr=metaLRmom[1], color=\"b\", marker=\"x\", label= r\"meta-LR-MoM\")\n",
    "    plt.errorbar(train_n_list, metaLRfo[0], yerr=metaLRfo[1],  color=\"r\", marker=\"*\", label= r\"meta-LR-FO\")\n",
    "    \n",
    "    betaLRmu = np.array([np.mean(betaLR[0]) for i in range(len(T_list))])\n",
    "    betaLRsd = np.array([np.mean(betaLR[1]) for i in range(len(T_list))])\n",
    "    \n",
    "    plt.plot(T_list, betaLRmu, color=\"g\", label= r\"LR\")\n",
    "    plt.fill_between(T_list, betaLRmu+betaLRsd, betaLRmu-betaLRsd, facecolor=\"lightgreen\")\n",
    "            \n",
    "    plt.legend(prop={'size': 20})\n",
    "    plt.xlabel(\"Number of Training Points (per Task)\", fontsize=20)\n",
    "    plt.ylabel(r\" $\\ell_2$ Parameter Error\", fontsize=24)\n",
    "    \n",
    "    fname=\"synthetic\"+\",d=\"+str(d)+\",r=\"+str(r)+\",T=\"+str(T)+\",test_n=\"+str(test_n)+\".pdf\"\n",
    "    \n",
    "    folder_path=\"Plots\"\n",
    "    plt.savefig(os.path.join(folder_path, fname), bbox_inches = \"tight\")\n",
    "    plt.show()\n",
    "    #time.sleep(2)\n",
    "    \n",
    "    return"
   ]
  },
  {
   "cell_type": "code",
   "execution_count": 65,
   "metadata": {
    "collapsed": true
   },
   "outputs": [],
   "source": [
    "def plot_angles_two(T_list, d, r, train_n, test_n, sinthetamom, sinthetafo):\n",
    "    \n",
    "    plt.close()\n",
    "    \n",
    "    plt.errorbar(T_list, sinthetamom[0], yerr=sinthetamom[1], color=\"b\", marker=\"x\", label= r\"LF-MoM\")\n",
    "    plt.errorbar(T_list, sinthetafo[0], yerr=sinthetafo[1],  color=\"r\", marker=\"*\", label= r\"LF-FO\")\n",
    "    #plt.errorbar(T_list, betaLR[0], yerr=betaLR[1], color=\"g\", marker=\"+\", label= r\"LR\")\n",
    "            \n",
    "    plt.legend(prop={'size': 20})\n",
    "    plt.xlabel(\"Number of Training Points (per Task)\", fontsize=20)\n",
    "    plt.ylabel(r\" $\\sin \\theta$\", fontsize=24)\n",
    "    \n",
    "    fname=\"angle\"+\",d=\"+str(d)+\",r=\"+str(r)+\",T=\"+str(T)+\",test_n=\"+str(test_n)+\".pdf\"\n",
    "    \n",
    "    folder_path=\"Plots\"\n",
    "    plt.savefig(os.path.join(folder_path, fname), bbox_inches = \"tight\")\n",
    "    plt.show()\n",
    "    #time.sleep(2)\n",
    "    \n",
    "    return"
   ]
  },
  {
   "cell_type": "code",
   "execution_count": 66,
   "metadata": {
    "collapsed": false
   },
   "outputs": [
    {
     "data": {
      "image/png": "[encoded data removed]",
      "text/plain": [
       "<Figure size 432x288 with 1 Axes>"
      ]
     },
     "metadata": {},
     "output_type": "display_data"
    }
   ],
   "source": [
    "plot_synthetic_two(T, d, r, train_n_list, test_n, metaLRmom, metaLRfo, betaLR)"
   ]
  },
  {
   "cell_type": "code",
   "execution_count": 67,
   "metadata": {
    "collapsed": false
   },
   "outputs": [
    {
     "data": {
      "image/png": "[encoded data removed]",
      "text/plain": [
       "<Figure size 432x288 with 1 Axes>"
      ]
     },
     "metadata": {},
     "output_type": "display_data"
    }
   ],
   "source": [
    "plot_angles_two(T_list, d, r, train_n, test_n, sinthetamom, sinthetafo)"
   ]
  },
  {
   "cell_type": "code",
   "execution_count": null,
   "metadata": {
    "collapsed": true
   },
   "outputs": [],
   "source": []
  }
 ],
 "metadata": {
  "kernelspec": {
   "display_name": "Python 3",
   "language": "python",
   "name": "python3"
  },
  "language_info": {
   "codemirror_mode": {
    "name": "ipython",
    "version": 3
   },
   "file_extension": ".py",
   "mimetype": "text/x-python",
   "name": "python",
   "nbconvert_exporter": "python",
   "pygments_lexer": "ipython3",
   "version": "3.6.8"
  }
 },
 "nbformat": 4,
 "nbformat_minor": 2
}
